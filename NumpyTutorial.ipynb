{
  "nbformat": 4,
  "nbformat_minor": 0,
  "metadata": {
    "colab": {
      "provenance": [],
      "authorship_tag": "ABX9TyMGSxQZnPVOTXhWYNu32P6g",
      "include_colab_link": true
    },
    "kernelspec": {
      "name": "python3",
      "display_name": "Python 3"
    },
    "language_info": {
      "name": "python"
    }
  },
  "cells": [
    {
      "cell_type": "markdown",
      "metadata": {
        "id": "view-in-github",
        "colab_type": "text"
      },
      "source": [
        "<a href=\"https://colab.research.google.com/github/hariThorve/machineLearningJourney/blob/main/NumpyTutorial.ipynb\" target=\"_parent\"><img src=\"https://colab.research.google.com/assets/colab-badge.svg\" alt=\"Open In Colab\"/></a>"
      ]
    },
    {
      "cell_type": "markdown",
      "source": [
        "<h2>Numpy = Numerical Python</h2> <br>\n",
        "\n",
        "1.Allows several mathematical operations. <br>\n",
        "2.Faster operations"
      ],
      "metadata": {
        "id": "9riy9EjNUrSb"
      }
    },
    {
      "cell_type": "code",
      "execution_count": 3,
      "metadata": {
        "colab": {
          "base_uri": "https://localhost:8080/"
        },
        "id": "OjLxct9NUYON",
        "outputId": "5ed881ab-be59-4874-f882-26a22eb527a4"
      },
      "outputs": [
        {
          "output_type": "stream",
          "name": "stdout",
          "text": [
            "[1, 2, 3, 4, 5]\n",
            "<class 'list'>\n",
            "[1 2 3 4 5]\n",
            "<class 'numpy.ndarray'>\n"
          ]
        }
      ],
      "source": [
        "import numpy as np\n",
        "\n",
        "#list\n",
        "list1 = [1, 2, 3, 4, 5]\n",
        "print(list1)\n",
        "print(type(list1))\n",
        "\n",
        "#numpy array\n",
        "\n",
        "array = np.array([1, 2, 3, 4, 5])\n",
        "print(array)\n",
        "print(type(array))"
      ]
    },
    {
      "cell_type": "code",
      "source": [
        "#creating a 2d array in numpy\n",
        "\n",
        "array2 = np.array([(1, 2, 3), (4, 5, 6), (7, 8, 9)])\n",
        "print(array2)\n",
        "array2.shape"
      ],
      "metadata": {
        "colab": {
          "base_uri": "https://localhost:8080/"
        },
        "id": "sgo_-XbtY9rF",
        "outputId": "7cb2784d-79aa-4969-b85c-797236cf4a98"
      },
      "execution_count": 22,
      "outputs": [
        {
          "output_type": "stream",
          "name": "stdout",
          "text": [
            "[[1 2 3]\n",
            " [4 5 6]\n",
            " [7 8 9]]\n"
          ]
        },
        {
          "output_type": "execute_result",
          "data": {
            "text/plain": [
              "(3, 3)"
            ]
          },
          "metadata": {},
          "execution_count": 22
        }
      ]
    },
    {
      "cell_type": "code",
      "source": [
        "#slicing in numpy\n",
        "array2[1:2]"
      ],
      "metadata": {
        "id": "DKL61PYRZeTg",
        "colab": {
          "base_uri": "https://localhost:8080/"
        },
        "outputId": "1a883865-4efe-4cf5-841d-4b40e5e2ac33"
      },
      "execution_count": 23,
      "outputs": [
        {
          "output_type": "execute_result",
          "data": {
            "text/plain": [
              "array([[4, 5, 6]])"
            ]
          },
          "metadata": {},
          "execution_count": 23
        }
      ]
    },
    {
      "cell_type": "code",
      "source": [
        "# printing a specific element\n",
        "#the element 6 is present at row 1 and column 2, Remember the counting starts from 0.\n",
        "print(array2[1, 2])"
      ],
      "metadata": {
        "colab": {
          "base_uri": "https://localhost:8080/"
        },
        "id": "3ujDda1lkjTU",
        "outputId": "6d4e2051-6a8e-4f39-f77b-a3917de023bd"
      },
      "execution_count": 24,
      "outputs": [
        {
          "output_type": "stream",
          "name": "stdout",
          "text": [
            "6\n"
          ]
        }
      ]
    },
    {
      "cell_type": "code",
      "source": [
        "#to check the dimensions of the given array\n",
        "#1. ndim() function\n",
        "# The shape of an array is a tuple of non-negative integers that specify the number of elements along each dimension.\n",
        "\n",
        "array2.ndim"
      ],
      "metadata": {
        "colab": {
          "base_uri": "https://localhost:8080/"
        },
        "id": "OcTBMw6vmEcR",
        "outputId": "ff0eac87-4125-4ea1-b931-9a326a952e82"
      },
      "execution_count": 25,
      "outputs": [
        {
          "output_type": "execute_result",
          "data": {
            "text/plain": [
              "2"
            ]
          },
          "metadata": {},
          "execution_count": 25
        }
      ]
    },
    {
      "cell_type": "code",
      "source": [
        "#number of total elements in an array is found out by size() function\n",
        "\n",
        "array2.size"
      ],
      "metadata": {
        "colab": {
          "base_uri": "https://localhost:8080/"
        },
        "id": "O7PVJBiEoobO",
        "outputId": "525426c9-23bb-4d32-a71a-e9b7408fa080"
      },
      "execution_count": 26,
      "outputs": [
        {
          "output_type": "execute_result",
          "data": {
            "text/plain": [
              "9"
            ]
          },
          "metadata": {},
          "execution_count": 26
        }
      ]
    },
    {
      "cell_type": "code",
      "source": [
        "#You can create an array with a range of elements:\n",
        "\n",
        "array3 = np.arange(4)\n",
        "array3"
      ],
      "metadata": {
        "colab": {
          "base_uri": "https://localhost:8080/"
        },
        "id": "0AxQp-lqpT6-",
        "outputId": "690751eb-6998-4319-cf55-1beb5943a012"
      },
      "execution_count": 28,
      "outputs": [
        {
          "output_type": "execute_result",
          "data": {
            "text/plain": [
              "array([0, 1, 2, 3])"
            ]
          },
          "metadata": {},
          "execution_count": 28
        }
      ]
    },
    {
      "cell_type": "code",
      "source": [
        "# And even an array that contains a range of evenly spaced intervals. To do this,\n",
        "# you will specify the first number, last number, and the step size.\n",
        "array4 = np.arange(2, 9, 2)\n",
        "array4\n"
      ],
      "metadata": {
        "colab": {
          "base_uri": "https://localhost:8080/"
        },
        "id": "v7-T1n2_qLbs",
        "outputId": "f121ebb3-f1dd-4b18-c1f6-3dae1edf691f"
      },
      "execution_count": 31,
      "outputs": [
        {
          "output_type": "execute_result",
          "data": {
            "text/plain": [
              "array([2, 4, 6, 8])"
            ]
          },
          "metadata": {},
          "execution_count": 31
        }
      ]
    },
    {
      "cell_type": "code",
      "source": [
        "# sorting an array\n",
        "array5 = np.array([5, 2, 1, 6, 3, 7, 8])\n",
        "print(f\"Before sorting : {array5}\")\n",
        "print(f\"After sorting : {np.sort(array5)}\")"
      ],
      "metadata": {
        "colab": {
          "base_uri": "https://localhost:8080/"
        },
        "id": "oPvOmuharpBr",
        "outputId": "bdb2d602-33b1-4e09-c6e8-3317d7167623"
      },
      "execution_count": 35,
      "outputs": [
        {
          "output_type": "stream",
          "name": "stdout",
          "text": [
            "Before sorting : [5 2 1 6 3 7 8]\n",
            "After sorting : [1 2 3 5 6 7 8]\n"
          ]
        }
      ]
    },
    {
      "cell_type": "code",
      "source": [
        "# Concatenation of two arrays\n",
        "\n",
        "a = np.array([1, 2, 3, 4])\n",
        "b = np.array([5, 6, 7, 8])\n",
        "\n",
        "c = np.concatenate((a, b))\n",
        "\n",
        "\n",
        "#concatenating 2d arrays\n",
        "\n",
        "a1 = np.array([(1, 2, 3, 4), (5, 6, 7, 8)])\n",
        "b1 = np.array([(9, 10, 11, 12), (13, 14, 15, 16)])\n",
        "\n",
        "np.concatenate((a1, b1))"
      ],
      "metadata": {
        "colab": {
          "base_uri": "https://localhost:8080/"
        },
        "id": "I1PZLzdSsVre",
        "outputId": "f8735369-134e-48f5-9c22-1d3b1af2bd91"
      },
      "execution_count": 39,
      "outputs": [
        {
          "output_type": "execute_result",
          "data": {
            "text/plain": [
              "array([[ 1,  2,  3,  4],\n",
              "       [ 5,  6,  7,  8],\n",
              "       [ 9, 10, 11, 12],\n",
              "       [13, 14, 15, 16]])"
            ]
          },
          "metadata": {},
          "execution_count": 39
        }
      ]
    }
  ]
}