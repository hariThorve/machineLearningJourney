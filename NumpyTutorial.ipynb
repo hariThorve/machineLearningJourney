{
  "nbformat": 4,
  "nbformat_minor": 0,
  "metadata": {
    "colab": {
      "provenance": [],
      "authorship_tag": "ABX9TyPOoV8oHsJS7uNaypc69P9p",
      "include_colab_link": true
    },
    "kernelspec": {
      "name": "python3",
      "display_name": "Python 3"
    },
    "language_info": {
      "name": "python"
    }
  },
  "cells": [
    {
      "cell_type": "markdown",
      "metadata": {
        "id": "view-in-github",
        "colab_type": "text"
      },
      "source": [
        "<a href=\"https://colab.research.google.com/github/hariThorve/machineLearningJourney/blob/main/NumpyTutorial.ipynb\" target=\"_parent\"><img src=\"https://colab.research.google.com/assets/colab-badge.svg\" alt=\"Open In Colab\"/></a>"
      ]
    },
    {
      "cell_type": "markdown",
      "source": [
        "<h2>Numpy = Numerical Python</h2> <br>\n",
        "\n",
        "1.Allows several mathematical operations. <br>\n",
        "2.Faster operations"
      ],
      "metadata": {
        "id": "9riy9EjNUrSb"
      }
    },
    {
      "cell_type": "code",
      "execution_count": 3,
      "metadata": {
        "colab": {
          "base_uri": "https://localhost:8080/"
        },
        "id": "OjLxct9NUYON",
        "outputId": "5ed881ab-be59-4874-f882-26a22eb527a4"
      },
      "outputs": [
        {
          "output_type": "stream",
          "name": "stdout",
          "text": [
            "[1, 2, 3, 4, 5]\n",
            "<class 'list'>\n",
            "[1 2 3 4 5]\n",
            "<class 'numpy.ndarray'>\n"
          ]
        }
      ],
      "source": [
        "import numpy as np\n",
        "\n",
        "#list\n",
        "list1 = [1, 2, 3, 4, 5]\n",
        "print(list1)\n",
        "print(type(list1))\n",
        "\n",
        "#numpy array\n",
        "\n",
        "array = np.array([1, 2, 3, 4, 5])\n",
        "print(array)\n",
        "print(type(array))"
      ]
    },
    {
      "cell_type": "code",
      "source": [
        "#creating a 2d array in numpy\n",
        "\n",
        "array2 = np.array([(1, 2, 3), (4, 5, 6)])\n",
        "print(array2)\n",
        "array2.shape"
      ],
      "metadata": {
        "colab": {
          "base_uri": "https://localhost:8080/"
        },
        "id": "sgo_-XbtY9rF",
        "outputId": "0629e46e-ac9a-4cc1-e4b9-cffb39f05b60"
      },
      "execution_count": 4,
      "outputs": [
        {
          "output_type": "stream",
          "name": "stdout",
          "text": [
            "[[1 2 3]\n",
            " [4 5 6]]\n"
          ]
        },
        {
          "output_type": "execute_result",
          "data": {
            "text/plain": [
              "(2, 3)"
            ]
          },
          "metadata": {},
          "execution_count": 4
        }
      ]
    },
    {
      "cell_type": "code",
      "source": [
        "#slicing in numpy\n",
        "array2[1:2]"
      ],
      "metadata": {
        "id": "DKL61PYRZeTg",
        "colab": {
          "base_uri": "https://localhost:8080/"
        },
        "outputId": "d4687654-5ae7-43cf-a429-46a6e4693f4d"
      },
      "execution_count": 6,
      "outputs": [
        {
          "output_type": "execute_result",
          "data": {
            "text/plain": [
              "array([[4, 5, 6]])"
            ]
          },
          "metadata": {},
          "execution_count": 6
        }
      ]
    },
    {
      "cell_type": "code",
      "source": [],
      "metadata": {
        "id": "3ujDda1lkjTU"
      },
      "execution_count": null,
      "outputs": []
    }
  ]
}